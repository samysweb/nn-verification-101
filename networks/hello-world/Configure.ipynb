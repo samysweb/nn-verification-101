{
 "cells": [
  {
   "cell_type": "code",
   "execution_count": 50,
   "id": "0836acac",
   "metadata": {},
   "outputs": [
    {
     "name": "stdout",
     "output_type": "stream",
     "text": [
      "Net(\n",
      "  (fc1): Linear(in_features=2, out_features=2, bias=True)\n",
      "  (fc3): Linear(in_features=2, out_features=1, bias=True)\n",
      ")\n"
     ]
    }
   ],
   "source": [
    "import torch\n",
    "import torch.nn as nn\n",
    "import torch.nn.functional as F\n",
    "\n",
    "\n",
    "class Net(nn.Module):\n",
    "\n",
    "    def __init__(self):\n",
    "        super(Net, self).__init__()\n",
    "        self.fc1 = nn.Linear(2,2)  # 5*5 from image dimension\n",
    "        self.fc3 = nn.Linear(2, 1)\n",
    "\n",
    "    def forward(self, input):\n",
    "        y1 = self.fc3(F.relu(self.fc1(input)))\n",
    "        return y1\n",
    "\n",
    "\n",
    "net = Net()\n",
    "print(net)"
   ]
  },
  {
   "cell_type": "code",
   "execution_count": 51,
   "id": "52b65d8c",
   "metadata": {},
   "outputs": [],
   "source": [
    "with torch.no_grad():\n",
    "    net.fc1.weight.copy_(torch.eye(2))\n",
    "    net.fc3.weight.copy_(torch.eye(1))\n",
    "\n",
    "    # Optionally set biases to zero\n",
    "    net.fc1.bias.zero_()\n",
    "    net.fc3.bias.copy_(torch.tensor([1.0]))"
   ]
  },
  {
   "cell_type": "code",
   "execution_count": 52,
   "id": "b906cba5",
   "metadata": {},
   "outputs": [
    {
     "data": {
      "text/plain": [
       "tensor([1.5000], grad_fn=<ViewBackward0>)"
      ]
     },
     "execution_count": 52,
     "metadata": {},
     "output_type": "execute_result"
    }
   ],
   "source": [
    "net(torch.tensor([0.5, 0.0]))  # Should return tensor([[1.0]])"
   ]
  },
  {
   "cell_type": "code",
   "execution_count": 53,
   "id": "8b859ed6",
   "metadata": {},
   "outputs": [],
   "source": [
    "# Create example inputs for exporting the model. The inputs should be a tuple of tensors.\n",
    "example_inputs = (torch.randn(2),)\n",
    "onnx_program = torch.onnx.export(net, example_inputs,\"at_least_1.onnx\")"
   ]
  },
  {
   "cell_type": "code",
   "execution_count": null,
   "id": "fb4680b5",
   "metadata": {},
   "outputs": [],
   "source": []
  }
 ],
 "metadata": {
  "kernelspec": {
   "display_name": "nnv",
   "language": "python",
   "name": "python3"
  },
  "language_info": {
   "codemirror_mode": {
    "name": "ipython",
    "version": 3
   },
   "file_extension": ".py",
   "mimetype": "text/x-python",
   "name": "python",
   "nbconvert_exporter": "python",
   "pygments_lexer": "ipython3",
   "version": "3.8.5"
  }
 },
 "nbformat": 4,
 "nbformat_minor": 5
}
